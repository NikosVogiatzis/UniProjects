{
  "cells": [
    {
      "attachments": {},
      "cell_type": "markdown",
      "metadata": {
        "id": "eDrcOVDGnyDI"
      },
      "source": [
        "## About iPython Notebooks ##\n",
        "\n",
        "iPython Notebooks are interactive coding environments embedded in a webpage. You will be using iPython notebooks in this class. Make sure you fill in any place that says `# BEGIN SOLUTION #END CODE HERE` searching for the missing parts (usually denoted with `...`). After writing your code, you can run the cell by either pressing \"SHIFT\"+\"ENTER\" or by clicking on \"Run\" (denoted by a play symbol). Before you turn this problem in, make sure everything runs as expected. First, **restart the kernel** (in the menubar, select Kernel$\\rightarrow$Restart) and then **run all cells** (in the menubar, select Cell$\\rightarrow$Run All). \n",
        "\n",
        " **What you need to remember:**\n",
        "\n",
        "- Run your cells using SHIFT+ENTER (or \"Run cell\")\n",
        "- Write code in the designated areas using Python 3 only\n",
        "- Do not modify the code outside of the designated areas\n",
        "- In some cases you will also need to explain the results. There will also be designated areas for that. \n",
        "\n",
        "Fill in your **NAME** and **AEM** below:"
      ]
    },
    {
      "cell_type": "code",
      "execution_count": 1,
      "metadata": {
        "id": "JEJWwHpJnyDK"
      },
      "outputs": [],
      "source": [
        "NAME = \"Nikolaos Vogiatzis\"\n",
        "AEM = \"3952\""
      ]
    },
    {
      "attachments": {},
      "cell_type": "markdown",
      "metadata": {
        "id": "QRgauGbInyDM"
      },
      "source": [
        "---"
      ]
    },
    {
      "attachments": {},
      "cell_type": "markdown",
      "metadata": {
        "deletable": false,
        "editable": false,
        "id": "_FF68cfznyDO",
        "nbgrader": {
          "cell_type": "markdown",
          "checksum": "ce63642cafb413e7903d83d2f2cd3637",
          "grade": false,
          "grade_id": "cell-f62db6dce1ed3f2e",
          "locked": true,
          "schema_version": 3,
          "solution": false,
          "task": false
        }
      },
      "source": [
        "# Assignment 2 - Decision Trees #"
      ]
    },
    {
      "attachments": {},
      "cell_type": "markdown",
      "metadata": {
        "deletable": false,
        "editable": false,
        "id": "zq29ctnanyDO",
        "nbgrader": {
          "cell_type": "markdown",
          "checksum": "29d61ce286fdb8fd61c7f8e89a9e1339",
          "grade": false,
          "grade_id": "cell-dce2e73cee9a5017",
          "locked": true,
          "schema_version": 3,
          "solution": false,
          "task": false
        }
      },
      "source": [
        "Welcome to your second assignment. This exercise gives you an introduction to [scikit-learn](https://scikit-learn.org/stable/). A simple but efficient machine learning library in Python. It also gives you a wide understanding on how decision trees work. "
      ]
    },
    {
      "attachments": {},
      "cell_type": "markdown",
      "metadata": {
        "deletable": false,
        "editable": false,
        "id": "mb4Wf4IdnyDP",
        "nbgrader": {
          "cell_type": "markdown",
          "checksum": "50a108d2f1e1a1ee2fde80743c0543fe",
          "grade": false,
          "grade_id": "cell-83ca2b0456fb85db",
          "locked": true,
          "schema_version": 3,
          "solution": false,
          "task": false
        }
      },
      "source": [
        "After this assignment you will:\n",
        "- Be able to use the scikit-learn library and train your own model from scratch.\n",
        "- Be able to train and understand decision trees."
      ]
    },
    {
      "cell_type": "code",
      "execution_count": 2,
      "metadata": {
        "deletable": false,
        "editable": false,
        "id": "sLqpxgvbnyDQ",
        "nbgrader": {
          "cell_type": "code",
          "checksum": "396c39a0797964c378ebb90cf18a29de",
          "grade": false,
          "grade_id": "cell-2cef6d48eea484d8",
          "locked": true,
          "schema_version": 3,
          "solution": false,
          "task": false
        }
      },
      "outputs": [],
      "source": [
        "# Always run this cell\n",
        "import numpy as np\n",
        "import pandas as pd\n",
        "from sklearn.datasets import load_breast_cancer\n",
        "from sklearn.model_selection import train_test_split\n",
        "from sklearn.tree import DecisionTreeClassifier\n",
        "from sklearn.metrics import f1_score, accuracy_score\n",
        "from sklearn.compose import ColumnTransformer\n",
        "from sklearn.pipeline import Pipeline\n",
        "from sklearn.impute import SimpleImputer\n",
        "from sklearn.preprocessing import OneHotEncoder, OrdinalEncoder\n",
        "\n",
        "# USE THIS RANDOM VARIABLE TO PRODUCE THE SAME RESULTS\n",
        "RANDOM_VARIABLE = 42"
      ]
    },
    {
      "attachments": {},
      "cell_type": "markdown",
      "metadata": {
        "id": "eLqRTrLTnyDR"
      },
      "source": [
        "## 1. Scikit-Learn and Decision Trees ##\n",
        "\n",
        "You are going to use the scikit-learn library to train a model for detecting breast cancer using the [Breast cancer wisconsin (diagnostic) dataset](https://scikit-learn.org/stable/modules/generated/sklearn.datasets.load_breast_cancer.html#sklearn.datasets.load_breast_cancer) by training a model using [decision trees](https://scikit-learn.org/stable/modules/tree.html)."
      ]
    },
    {
      "attachments": {},
      "cell_type": "markdown",
      "metadata": {
        "id": "b7d5K-BdnyDS"
      },
      "source": [
        "**1.1** Load the breast cancer dataset using the scikit learn library. From variable *cdata*, you should export the *X* and *y*, from the *data* and *target* variables of the variable *cdata*, respectively, and the feature names and target names from the variables *feature_names* and *target_names*, respectively. Convert the latter two (feature names and target names) into lists. Thus, X and y should be numpy arrays, and feature_names and target_names should be lists. Then split the dataset into train and test set using the appropriate function. Use 33% of the dataset as the test set. Define as X the attributes and as y the target values. Do not forget to set the random_state parameter as the *RANDOM_VARIABLE* defined above. Use this variable for all the random_state parameters in this assignment."
      ]
    },
    {
      "cell_type": "code",
      "execution_count": 3,
      "metadata": {
        "deletable": false,
        "id": "NfF54h6anyDS",
        "nbgrader": {
          "cell_type": "code",
          "checksum": "4b873328ea05f6ef9c08827168c7b835",
          "grade": false,
          "grade_id": "cell-1f0c2f3918333cf6",
          "locked": false,
          "schema_version": 3,
          "solution": true,
          "task": false
        }
      },
      "outputs": [],
      "source": [
        "cdata = load_breast_cancer(as_frame=True)\n",
        "\n",
        "# BEGIN SOLUTION\n",
        "X = cdata.data.values\n",
        "y = cdata.target.values\n",
        "feature_names = cdata.feature_names.tolist()\n",
        "target_names = cdata.target_names.tolist()\n",
        "\n",
        "X_train, X_test, y_train, y_test = train_test_split(X, y, test_size=0.33, random_state=RANDOM_VARIABLE)\n",
        "# END CODE HERE"
      ]
    },
    {
      "cell_type": "code",
      "execution_count": 4,
      "metadata": {
        "colab": {
          "base_uri": "https://localhost:8080/"
        },
        "deletable": false,
        "editable": false,
        "id": "FiOtzHkpnyDT",
        "nbgrader": {
          "cell_type": "code",
          "checksum": "3603b2ba8916ffdad9e9c53f31546b4c",
          "grade": true,
          "grade_id": "cell-3f43c895ceaf57a9",
          "locked": true,
          "points": 2,
          "schema_version": 3,
          "solution": false,
          "task": false
        },
        "outputId": "628bb47c-6506-4259-94e0-b41e82b1ac4f"
      },
      "outputs": [
        {
          "name": "stdout",
          "output_type": "stream",
          "text": [
            "Type of X: <class 'numpy.ndarray'>\n",
            "Type of y: <class 'numpy.ndarray'>\n",
            "Type of feature_names: <class 'list'>\n",
            "Type of target_names: <class 'list'>\n",
            "Size of train set: 381\n",
            "Size of test set: 188\n",
            "Unique classes: 2\n"
          ]
        }
      ],
      "source": [
        "print(\"Type of X: {}\".format(type(X)))\n",
        "print(\"Type of y: {}\".format(type(y)))\n",
        "print(\"Type of feature_names: {}\".format(type(feature_names)))\n",
        "print(\"Type of target_names: {}\".format(type(target_names)))\n",
        "print(\"Size of train set: {}\".format(len(y_train)))\n",
        "print(\"Size of test set: {}\".format(len(y_test)))\n",
        "print(\"Unique classes: {}\".format(len(set(y_test))))"
      ]
    },
    {
      "attachments": {},
      "cell_type": "markdown",
      "metadata": {
        "deletable": false,
        "editable": false,
        "id": "JuW_lKVFnyDU",
        "nbgrader": {
          "cell_type": "markdown",
          "checksum": "62285a7bd3ab59718b89f7e09de0fea4",
          "grade": false,
          "grade_id": "cell-1ce621a108e76a15",
          "locked": true,
          "schema_version": 3,
          "solution": false,
          "task": false
        }
      },
      "source": [
        "**Expected output**:  \n",
        "\n",
        "```\n",
        "Type of X: <class 'numpy.ndarray'>\n",
        "Type of y: <class 'numpy.ndarray'>\n",
        "Type of feature_names: <class 'list'>\n",
        "Type of target_names: <class 'list'>\n",
        "Size of train set: 381\n",
        "Size of test set: 188\n",
        "Unique classes: 2\n",
        "```\n",
        "\n"
      ]
    },
    {
      "attachments": {},
      "cell_type": "markdown",
      "metadata": {
        "id": "GUB8sl0NnyDV"
      },
      "source": [
        "**1.2** Train two DecisionTree classifiers and report the F1 score. Use the information gain for the one classifier and the Gini impurity for the other, set the *max_depth* to 3, and do not forget to use the *RANDOM_VARIABLE*, as it is crucial for the following part."
      ]
    },
    {
      "cell_type": "code",
      "execution_count": 5,
      "metadata": {
        "deletable": false,
        "id": "nPQFaOhLnyDW",
        "nbgrader": {
          "cell_type": "code",
          "checksum": "17197b62614427a979fcbab7ed2734dd",
          "grade": false,
          "grade_id": "cell-a7fa1d29509eb2a1",
          "locked": false,
          "schema_version": 3,
          "solution": true,
          "task": false
        }
      },
      "outputs": [],
      "source": [
        "# BEGIN SOLUTION\n",
        "classifier_gini = DecisionTreeClassifier(criterion='gini', max_depth=3, random_state=RANDOM_VARIABLE)\n",
        "classifier_igain = DecisionTreeClassifier(criterion='entropy', max_depth=3, random_state=RANDOM_VARIABLE)\n",
        "\n",
        "classifier_gini.fit(X_train, y_train)\n",
        "classifier_igain.fit(X_train, y_train)\n",
        "\n",
        "prediction_gini = classifier_gini.predict(X_test)\n",
        "prediction_igain = classifier_igain.predict(X_test)\n",
        "\n",
        "f_measure_gini = f1_score(y_test, prediction_gini)\n",
        "f_measure_igain = f1_score(y_test, prediction_igain)\n",
        "# END CODE HERE"
      ]
    },
    {
      "cell_type": "code",
      "execution_count": 6,
      "metadata": {
        "colab": {
          "base_uri": "https://localhost:8080/"
        },
        "deletable": false,
        "editable": false,
        "id": "qToIpGtnnyDX",
        "nbgrader": {
          "cell_type": "code",
          "checksum": "6d9aab4355c27c346f7e6548f233e758",
          "grade": true,
          "grade_id": "cell-09657a82bf4028c4",
          "locked": true,
          "points": 3,
          "schema_version": 3,
          "solution": false,
          "task": false
        },
        "outputId": "686a16c8-9228-49b1-febd-b3eba7ee9ce3"
      },
      "outputs": [
        {
          "name": "stdout",
          "output_type": "stream",
          "text": [
            "F-Measure Gini: 0.9663865546218487\n",
            "F-Measure Information Gain: 0.979591836734694\n"
          ]
        }
      ],
      "source": [
        "print(\"F-Measure Gini: {}\".format(f_measure_gini))\n",
        "print(\"F-Measure Information Gain: {}\".format(f_measure_igain))"
      ]
    },
    {
      "attachments": {},
      "cell_type": "markdown",
      "metadata": {
        "deletable": false,
        "editable": false,
        "id": "hn9nblQ5nyDY",
        "nbgrader": {
          "cell_type": "markdown",
          "checksum": "f3facbbef0dd8f25ad12bfec7c174818",
          "grade": false,
          "grade_id": "cell-b0d8630f3b764cf3",
          "locked": true,
          "schema_version": 3,
          "solution": false,
          "task": false
        }
      },
      "source": [
        "**Expected output**:\n",
        "\n",
        "```\n",
        "F-Measure Gini: 0.9663865546218487\n",
        "F-Measure Information Gain: 0.979591836734694\n",
        "```"
      ]
    },
    {
      "attachments": {},
      "cell_type": "markdown",
      "metadata": {
        "id": "tXYJRWnSpxOB"
      },
      "source": [
        "**1.3** In this part, you are going to explore one of the trained decision trees visually. We will use the *classifier_igain* and the function *export_graphviz* to plot the decision tree. You should fill in the missing parts of the functions parameters, which correspond to the decision tree model, the feature names and the target names.\n"
      ]
    },
    {
      "cell_type": "code",
      "execution_count": 7,
      "metadata": {
        "colab": {
          "base_uri": "https://localhost:8080/",
          "height": 594
        },
        "id": "izqLl_7Hpwm_",
        "outputId": "883f5360-5a7b-4e63-c85e-b6e240c4625a"
      },
      "outputs": [
        {
          "data": {
            "image/png": "[encoded data removed]",
            "text/plain": [
              "<IPython.core.display.Image object>"
            ]
          },
          "execution_count": 7,
          "metadata": {},
          "output_type": "execute_result"
        }
      ],
      "source": [
        "# Let's see how our tree looks\n",
        "from sklearn.tree import export_graphviz\n",
        "from IPython.display import Image\n",
        "from subprocess import call\n",
        "\n",
        "# BEGIN SOLUTION\n",
        "export_graphviz(\n",
        "        classifier_igain,\n",
        "        feature_names=feature_names,\n",
        "        class_names=target_names,\n",
        "        out_file=\"dtree.dot\",\n",
        "        rounded=True,\n",
        "        filled=True\n",
        "    )\n",
        "# END CODE HERE\n",
        "\n",
        "call(['dot', '-Tpng', 'dtree.dot', '-o', 'dtree.png', '-Gdpi=96'])\n",
        "Image(filename = 'dtree.png')"
      ]
    },
    {
      "attachments": {},
      "cell_type": "markdown",
      "metadata": {
        "id": "FLlmqVVf5AwM"
      },
      "source": [
        "**1.4** Now, we will examine two random instances (7th and 136th). Thus, we are presenting the decision tree's predictions for these instances, and the ground truth values. Moreover, for each instance, we print the feature values. However, as we can see from the plot above, only 6 features out of the 30 are being used by the tree. Thus, in order to print less information, we will use the *feature_importances_* variable of our tree to check which features has 0 importance to skip them."
      ]
    },
    {
      "cell_type": "code",
      "execution_count": 8,
      "metadata": {
        "colab": {
          "base_uri": "https://localhost:8080/"
        },
        "id": "Z0qLU7KLsMfx",
        "outputId": "5f81281c-55bf-41f8-be4a-ebff48063fda"
      },
      "outputs": [
        {
          "name": "stdout",
          "output_type": "stream",
          "text": [
            "7th instance a was classified as: malignant while the ground truth was: malignant\n",
            "\tmean texture: 15.05\n",
            "\tmean concave points: 0.07953\n",
            "\tarea error: 61.1\n",
            "\tworst radius: 20.01\n",
            "\tworst texture: 19.52\n",
            "\tworst perimeter: 134.9\n",
            "\n",
            "\n",
            "136th instance a was classified as: malignant while the ground truth was: benign\n",
            "\tmean texture: 18.89\n",
            "\tmean concave points: 0.05381\n",
            "\tarea error: 19.29\n",
            "\tworst radius: 14.8\n",
            "\tworst texture: 27.2\n",
            "\tworst perimeter: 97.33\n",
            "\n",
            "\n"
          ]
        }
      ],
      "source": [
        "instance_a = 7\n",
        "instance_b = 136\n",
        "for instance in [instance_a, instance_b]:\n",
        "  print(str(instance)+ 'th instance a was classified as: ' +target_names[prediction_igain[instance]] +' while the ground truth was: ' + target_names[y_test[instance]])\n",
        "  # BEGIN SOLUTION\n",
        "  for idf, feature_name in enumerate(feature_names):\n",
        "    if classifier_igain.feature_importances_[idf] != 0:\n",
        "      print('\\t'+feature_name+\": \"+str(X_test[instance][idf]))\n",
        "  # END CODE HERE\n",
        "  print('\\n')"
      ]
    },
    {
      "attachments": {},
      "cell_type": "markdown",
      "metadata": {
        "id": "aSPh8Z1Ilmq4"
      },
      "source": [
        "**Expected output**:\n",
        "\n",
        "```\n",
        "7th instance a was classified as: malignant while the ground truth was: malignant\n",
        "\tmean texture: 15.05\n",
        "\tmean concave points: 0.07953\n",
        "\tarea error: 61.1\n",
        "\tworst radius: 20.01\n",
        "\tworst texture: 19.52\n",
        "\tworst perimeter: 134.9\n",
        "\n",
        "\n",
        "136th instance a was classified as: malignant while the ground truth was: benign\n",
        "\tmean texture: 18.89\n",
        "\tmean concave points: 0.05381\n",
        "\tarea error: 19.29\n",
        "\tworst radius: 14.8\n",
        "\tworst texture: 27.2\n",
        "\tworst perimeter: 97.33\n",
        "```\n",
        "\n"
      ]
    },
    {
      "attachments": {},
      "cell_type": "markdown",
      "metadata": {
        "id": "JHE-wOx77DBq"
      },
      "source": [
        "**1.6** Based on the aforementioned information, and the plotted decision tree, identify one feature value that if changed in each instance, the predicted class will change as well. Specifically, you should find a feature value change that will be small. Answer in the following cell, either with code, or/and writing a small paragraph explaining the feature, the change and why the decision will change."
      ]
    },
    {
      "cell_type": "code",
      "execution_count": null,
      "metadata": {
        "id": "MvrW8zQStBTm"
      },
      "outputs": [],
      "source": [
        "# BEGIN SOLUTION\n",
        "\n",
        "\n",
        "\n",
        "# END CODE HERE"
      ]
    },
    {
      "attachments": {},
      "cell_type": "markdown",
      "metadata": {
        "id": "nL7ZSLuelyu7"
      },
      "source": [
        "or/and"
      ]
    },
    {
      "attachments": {},
      "cell_type": "markdown",
      "metadata": {
        "id": "h2speZex827U"
      },
      "source": [
        "YOUR ANSWER HERE\n"
      ]
    },
    {
      "attachments": {},
      "cell_type": "markdown",
      "metadata": {
        "deletable": false,
        "editable": false,
        "id": "31Iyi9SJnyDZ",
        "nbgrader": {
          "cell_type": "markdown",
          "checksum": "f2532168d16e8c9bffba3d7d8e1efce7",
          "grade": false,
          "grade_id": "cell-591ba122016b6db5",
          "locked": true,
          "schema_version": 3,
          "solution": false,
          "task": false
        }
      },
      "source": [
        "**1.7** Train multiple classifiers by modifying the max_depth within the range from 1 to 8 and save the f1 scores to the corresponding list of the *fscores* dictionary (one list for training set and one for test set). Before appending the scores to the corresponding list, multiply them by 100, and round the values to 2 decimals."
      ]
    },
    {
      "cell_type": "code",
      "execution_count": 9,
      "metadata": {
        "deletable": false,
        "id": "U7gSfRu_nyDa",
        "nbgrader": {
          "cell_type": "code",
          "checksum": "54cf257e90a3cb5877db81297bedd45c",
          "grade": false,
          "grade_id": "cell-31c58b6161a3907d",
          "locked": false,
          "schema_version": 3,
          "solution": true,
          "task": false
        }
      },
      "outputs": [],
      "source": [
        "# BEGIN SOLUTION\n",
        "different_depth_values = range(1, 8)\n",
        "fscores = {}\n",
        "fscores['train'] = []\n",
        "fscores['test'] = []\n",
        "\n",
        "for depth in different_depth_values:\n",
        "    classifier = DecisionTreeClassifier(criterion='gini', max_depth=depth, random_state=RANDOM_VARIABLE)\n",
        "    classifier.fit(X_train, y_train)\n",
        "\n",
        "    y_train_pred = classifier.predict(X_train)\n",
        "    train_fscore = f1_score(y_train, y_train_pred) * 100\n",
        "    fscores['train'].append(round(train_fscore, 2))\n",
        "\n",
        "    y_test_pred = classifier.predict(X_test)\n",
        "    test_fscore = f1_score(y_test, y_test_pred) * 100\n",
        "    fscores['test'].append(round(test_fscore, 2))\n",
        "# END CODE HERE"
      ]
    },
    {
      "cell_type": "code",
      "execution_count": 10,
      "metadata": {
        "colab": {
          "base_uri": "https://localhost:8080/"
        },
        "deletable": false,
        "editable": false,
        "id": "2395Por-nyDa",
        "nbgrader": {
          "cell_type": "code",
          "checksum": "70a249937f2f690c6ce855debaed204c",
          "grade": true,
          "grade_id": "cell-0c300109423f53b9",
          "locked": true,
          "points": 5,
          "schema_version": 3,
          "solution": false,
          "task": false
        },
        "outputId": "a16ab58d-dac6-427e-9bb6-3d25a919c7b0"
      },
      "outputs": [
        {
          "name": "stdout",
          "output_type": "stream",
          "text": [
            "Fscores Train: [94.24, 95.46, 97.65, 99.15, 99.37, 99.58, 100.0]\n",
            "Fscores Test:  [91.14, 93.97, 96.64, 94.12, 95.4, 95.04, 93.72]\n"
          ]
        }
      ],
      "source": [
        "print(\"Fscores Train: {}\".format(fscores['train']))\n",
        "print(\"Fscores Test:  {}\".format(fscores['test']))"
      ]
    },
    {
      "attachments": {},
      "cell_type": "markdown",
      "metadata": {
        "deletable": false,
        "editable": false,
        "id": "f37yzYcbnyDb",
        "nbgrader": {
          "cell_type": "markdown",
          "checksum": "3db472d2b9db7a42cc012cd96fdeb499",
          "grade": false,
          "grade_id": "cell-75789627f20d2c94",
          "locked": true,
          "schema_version": 3,
          "solution": false,
          "task": false
        }
      },
      "source": [
        "**Expected output**:  \n",
        "```\n",
        "Fscores Train: [94.24, 95.46, 97.65, 99.15, 99.37, 99.58, 100.0]\n",
        "Fscores Test:  [91.14, 93.97, 96.64, 94.12, 95.4, 95.04, 93.72]\n",
        "```"
      ]
    },
    {
      "attachments": {},
      "cell_type": "markdown",
      "metadata": {
        "deletable": false,
        "editable": false,
        "id": "4stz0V9knyDd",
        "nbgrader": {
          "cell_type": "markdown",
          "checksum": "bca7d4c160c767d27a09b4620d27d56e",
          "grade": false,
          "grade_id": "cell-5906e6d5efa70282",
          "locked": true,
          "schema_version": 3,
          "solution": false,
          "task": false
        }
      },
      "source": [
        "**1.8** Compare the results from the train set with the results from the test set. What do you notice? How are you going to choose the max_depth of your model?"
      ]
    },
    {
      "attachments": {},
      "cell_type": "markdown",
      "metadata": {
        "deletable": false,
        "id": "kwtDaX3JnyDe",
        "nbgrader": {
          "cell_type": "markdown",
          "checksum": "424ac10e4e22ca9e32207deee3bf0f57",
          "grade": true,
          "grade_id": "cell-c9c6ea0e40d98b83",
          "locked": false,
          "points": 5,
          "schema_version": 3,
          "solution": true,
          "task": false
        }
      },
      "source": [
        "YOUR ANSWER HERE\n",
        "\n",
        "Όσον αφορά το train_set παρατηρούμε ότι καθώς το βάθος αυξάνεται, τα Fscores αυξάνονται αναμενόμενα, καθώς όσο το βάθoς αυξάνεται τόσο καλύτερα-αποτελεσματικότερα το μοντέλο κάνει fit τα δεδομένα. Αυτό φαίνεται και από την τελική τιμή (100) όπου το μοντέλο έχει πετύχει τέλεια ταξινόμηση.\n",
        "\n",
        "Σχετικά με το test_set παρατηρούμε ότι με την αύξηση του βάθους, αρχικά τα Fscores αυξάνονται μέχρι ένα σημείο μετά το οποίο οι τιμές μειώνονται ξανά.Αυτό συμβαίνει διότι το μοντέλο ξεκινά την υπερπροσαρμογή στο σημείο που σταματά η αύξηση των Fscores. Έτσι πρέπει να βρούμε το κατάλληλο βάθος.\n",
        "\n",
        "Για την επιλογή του κατάλληλου βάθους πρέπει να λάβουμε υπόψη τόσο το overfitting όσο και το underfitting. Πρέπει να ισοσταθμίσουμε δηλαδή το πόσο περίπλοκο θα είναι το μοντέλο, ώστε να μην φτάσουμε στο overfitting και παράλληλα πόσο απλό θα είναι ώστε να μην φτάασουμε στο underfitting. Αυτό επιτυχγάνεται με χρήση cross-validation τεχνικών, σπάζοντας τα δεδομένα εκπαίδευσης σε κομμάτια και εφαρμόζοντας με βάση αυτά τα τεστ μας κάθε φορά.   "
      ]
    },
    {
      "attachments": {},
      "cell_type": "markdown",
      "metadata": {
        "deletable": false,
        "editable": false,
        "id": "PIw1fVFenyDe",
        "nbgrader": {
          "cell_type": "markdown",
          "checksum": "217666fcc2e383d6f2c1904c9d6a71be",
          "grade": false,
          "grade_id": "cell-9ef42e6c90ea2ffe",
          "locked": true,
          "schema_version": 3,
          "solution": false,
          "task": false
        }
      },
      "source": [
        "## 2.0 Pipelines ##\n",
        "\n",
        "In this part of the exercise you are going to build a pipeline from scratch for a classification problem. Load the **income.csv** file and train a DecisionTree model that will predict the *income* variable. This dataset is a modification of the original Adult Income dataset found [here](http://archive.ics.uci.edu/ml/datasets/Adult). Report the f1-score and accuracy score of the test set found in **income_test.csv**. Your pipeline should be able to handle missing values and categorical features (scikit-learn's decision trees do not handle categorical values). You can preprocess the dataset as you like in order to achieve higher scores.  \n",
        "\n",
        "**2.1** Load the train and test set variables from the files **income.csv** and **income_test.csv**"
      ]
    },
    {
      "cell_type": "code",
      "execution_count": 11,
      "metadata": {
        "id": "7jJW-avitO9E"
      },
      "outputs": [],
      "source": [
        "# BEGIN SOLUTION\n",
        "train_set = pd.read_csv('income.csv')\n",
        "y_train = train_set['income']\n",
        "\n",
        "test_set = pd.read_csv('income_test.csv')\n",
        "y_test = test_set['income']\n",
        "\n",
        "feature_to_pred = train_set.drop('income', axis=1)\n",
        "train_set, test_set, y_train, y_test = train_test_split(feature_to_pred, y_train, test_size=0.2, random_state=RANDOM_VARIABLE)\n",
        "# End CODE HERE"
      ]
    },
    {
      "attachments": {},
      "cell_type": "markdown",
      "metadata": {
        "id": "Up2k55v7h8D4"
      },
      "source": [
        "**2.2** Check if there are any features with missing values in the data and report them. Check and report the numerical and categorical data, as well."
      ]
    },
    {
      "cell_type": "code",
      "execution_count": 12,
      "metadata": {
        "id": "NyiaW503h7mB"
      },
      "outputs": [
        {
          "name": "stdout",
          "output_type": "stream",
          "text": [
            "Features with missing values in train set:\n",
            "workclass     1447\n",
            "occupation    1454\n",
            "dtype: int64\n",
            "Features with missing values in test set:\n",
            "workclass     389\n",
            "occupation    389\n",
            "dtype: int64\n",
            "Numerical features:\n",
            "Index(['age', 'fnlwgt', 'education_num', 'capital-gain', 'capital-loss',\n",
            "       'hours-per-week'],\n",
            "      dtype='object')\n",
            "Categorical features:\n",
            "Index(['workclass', 'education', 'marital-status', 'occupation',\n",
            "       'relationship', 'race', 'sex'],\n",
            "      dtype='object')\n"
          ]
        }
      ],
      "source": [
        "# BEGIN SOLUTION\n",
        "missing_train = train_set.isnull().sum()\n",
        "missing_train = missing_train[missing_train > 0]\n",
        "\n",
        "missing_test = test_set.isnull().sum()\n",
        "missing_test = missing_test[missing_test > 0]\n",
        "\n",
        "print(\"Features with missing values in train set:\")\n",
        "print(missing_train)\n",
        "\n",
        "print(\"Features with missing values in test set:\")\n",
        "print(missing_test)\n",
        "\n",
        "numerical_features = train_set.select_dtypes(include='number').columns\n",
        "categorical_features = train_set.select_dtypes(include='object').columns\n",
        "\n",
        "print(\"Numerical features:\")\n",
        "print(numerical_features)\n",
        "\n",
        "print(\"Categorical features:\")\n",
        "print(categorical_features)\n",
        "# End CODE HERE"
      ]
    },
    {
      "attachments": {},
      "cell_type": "markdown",
      "metadata": {
        "id": "VhHAVISNkeJF"
      },
      "source": [
        "YOUR ANSWER HERE"
      ]
    },
    {
      "attachments": {},
      "cell_type": "markdown",
      "metadata": {
        "id": "akVGpGHDuav4"
      },
      "source": [
        "**2.3** Create your pipeline. An acceptable pipeline, should include both numerical and categorical handling."
      ]
    },
    {
      "cell_type": "code",
      "execution_count": 13,
      "metadata": {
        "id": "pv6z98huuZ6M"
      },
      "outputs": [
        {
          "data": {
            "text/plain": [
              "Pipeline(steps=[('preprocessor',\n",
              "                 ColumnTransformer(transformers=[('num',\n",
              "                                                  Pipeline(steps=[('imputer',\n",
              "                                                                   SimpleImputer())]),\n",
              "                                                  Index(['age', 'fnlwgt', 'education_num', 'capital-gain', 'capital-loss',\n",
              "       'hours-per-week'],\n",
              "      dtype='object')),\n",
              "                                                 ('one_hot_cat',\n",
              "                                                  Pipeline(steps=[('encoder',\n",
              "                                                                   OneHotEncoder(handle_unknown='ignore'))]),\n",
              "                                                  Index(['workclass', 'education', 'marital-status', 'occupation',\n",
              "       'relationship', 'race', 'sex'],\n",
              "      dtype='object'))])),\n",
              "                ('classifier', DecisionTreeClassifier())])"
            ]
          },
          "execution_count": 13,
          "metadata": {},
          "output_type": "execute_result"
        }
      ],
      "source": [
        "# BEGIN SOLUTION\n",
        "numerical_transformer = Pipeline(steps=[\n",
        "    ('imputer', SimpleImputer(strategy='mean'))\n",
        "])\n",
        "\n",
        "categorical_transformer = Pipeline([\n",
        "    ('encoder', OneHotEncoder(handle_unknown='ignore'))\n",
        "])\n",
        "preprocessor = ColumnTransformer(transformers=[\n",
        "    ('num', numerical_transformer, numerical_features),\n",
        "    ('one_hot_cat', categorical_transformer, categorical_features)\n",
        "])\n",
        "\n",
        "clf = Pipeline(\n",
        "    steps=[(\"preprocessor\", preprocessor), (\"classifier\", DecisionTreeClassifier())]\n",
        ")\n",
        "\n",
        "clf.fit(train_set, y_train)\n",
        "# End CODE HERE"
      ]
    },
    {
      "attachments": {},
      "cell_type": "markdown",
      "metadata": {
        "id": "cpM9JAn-irMh"
      },
      "source": [
        "**2.4** Evaluate the pipeline's performance, without tuning!"
      ]
    },
    {
      "cell_type": "code",
      "execution_count": 14,
      "metadata": {
        "id": "3uaArYmQvKcf"
      },
      "outputs": [
        {
          "name": "stdout",
          "output_type": "stream",
          "text": [
            "Model score Accuracy: 0.820\n",
            "Model score F1 Weighted: 0.820\n"
          ]
        }
      ],
      "source": [
        "# BEGIN SOLUTION\n",
        "# perform the prediction to the test set\n",
        "y_predict = clf.predict(test_set)\n",
        "accuracy = accuracy_score(y_test, y_predict)\n",
        "# End CODE HERE\n",
        "print(\"Model score Accuracy: %.3f\" % accuracy_score(y_test,y_predict))\n",
        "print(\"Model score F1 Weighted: %.3f\" % f1_score(y_test,y_predict,average='weighted'))"
      ]
    },
    {
      "attachments": {},
      "cell_type": "markdown",
      "metadata": {
        "id": "Zz_MWnYY2r3-"
      },
      "source": [
        "**2.5** Perform a gooood grid search to find the best parameters for your pipeline. Both GridSearchCV and RandomizedSearchCV are acceptable"
      ]
    },
    {
      "cell_type": "code",
      "execution_count": 15,
      "metadata": {
        "deletable": false,
        "id": "RNECyUFtnyDf",
        "nbgrader": {
          "cell_type": "code",
          "checksum": "152ab2dd6861b198b879a78ebadc4ee4",
          "grade": true,
          "grade_id": "cell-dd950ab2eb40d8a4",
          "locked": false,
          "points": 45,
          "schema_version": 3,
          "solution": true,
          "task": false
        }
      },
      "outputs": [
        {
          "name": "stdout",
          "output_type": "stream",
          "text": [
            "Best params:\n",
            "{'classifier__max_depth': 10, 'preprocessor__num__imputer__strategy': 'mean'}\n"
          ]
        }
      ],
      "source": [
        "from sklearn.model_selection import GridSearchCV\n",
        "param_grid = {\n",
        "    \"preprocessor__num__imputer__strategy\": [\"mean\", \"median\"],\n",
        "    \"classifier__max_depth\": [2, 5, 10],\n",
        "}\n",
        "\n",
        "grid_search = GridSearchCV(clf, param_grid, cv=5)\n",
        "grid_search.fit(train_set, y_train)\n",
        "\n",
        "print(\"Best params:\")\n",
        "print(grid_search.best_params_)"
      ]
    },
    {
      "attachments": {},
      "cell_type": "markdown",
      "metadata": {
        "id": "-AJbfAjPjGQZ"
      },
      "source": [
        "**2.6** Evaluate the best model's performance."
      ]
    },
    {
      "cell_type": "code",
      "execution_count": 16,
      "metadata": {
        "id": "OhE0haFuw57D"
      },
      "outputs": [
        {
          "name": "stdout",
          "output_type": "stream",
          "text": [
            "Model score Accuracy: 0.860\n",
            "Model score F1 Weighted: 0.854\n"
          ]
        }
      ],
      "source": [
        "# BEGIN SOLUTION\n",
        "# perform the prediction to the test set\n",
        "y_predict = grid_search.predict(test_set)\n",
        "\n",
        "accuracy = accuracy_score(y_test, y_predict)\n",
        "f1_weighted = f1_score(y_test, y_predict, average='weighted')\n",
        "\n",
        "# End CODE HERE\n",
        "print(\"Model score Accuracy: %.3f\" % accuracy_score(y_test,y_predict))\n",
        "print(\"Model score F1 Weighted: %.3f\" % f1_score(y_test,y_predict,average='weighted'))"
      ]
    },
    {
      "attachments": {},
      "cell_type": "markdown",
      "metadata": {
        "id": "QNf3cyeNj3S1"
      },
      "source": [
        "**2.7** Evaluate your model using at least three different evaluation metrics (note1: except accuracy and weighted f1 score, note2: do not use more than once a variation of f1)."
      ]
    },
    {
      "cell_type": "code",
      "execution_count": 17,
      "metadata": {
        "id": "4jvG4qqikH9a"
      },
      "outputs": [],
      "source": [
        "# BEGIN SOLUTION\n",
        "from sklearn.metrics import adjusted_rand_score, adjusted_mutual_info_score, balanced_accuracy_score\n",
        "\n",
        "metric1 = adjusted_rand_score(y_test, y_predict)\n",
        "metric2 = adjusted_mutual_info_score(y_test, y_predict)\n",
        "metric3 = balanced_accuracy_score(y_test, y_predict)\n",
        "#END CODE HERE"
      ]
    },
    {
      "cell_type": "code",
      "execution_count": 18,
      "metadata": {
        "id": "NjOJpA3cuKhm"
      },
      "outputs": [
        {
          "name": "stdout",
          "output_type": "stream",
          "text": [
            "Model score Metric 1: 0.464\n",
            "Model score Metric 2: 0.299\n",
            "Model score Metric 3: 0.773\n"
          ]
        }
      ],
      "source": [
        "print(\"Model score Metric 1: %.3f\" % metric1)\n",
        "print(\"Model score Metric 2: %.3f\" % metric2)\n",
        "print(\"Model score Metric 3: %.3f\" % metric3)"
      ]
    },
    {
      "attachments": {},
      "cell_type": "markdown",
      "metadata": {
        "deletable": false,
        "editable": false,
        "id": "f_lIQ1-wnyDg",
        "nbgrader": {
          "cell_type": "markdown",
          "checksum": "ee9d4c2635307395bdef2efb941106ae",
          "grade": false,
          "grade_id": "cell-2c3327274958bbad",
          "locked": true,
          "schema_version": 3,
          "solution": false,
          "task": false
        }
      },
      "source": [
        "**2.8** Describe the process you followed to achieve the results above. Your description should include, but is not limited to the following \n",
        "- How do you handle missing values and why\n",
        "- How do you handle categorical variables and why\n",
        "- Any further preprocessing steps\n",
        "- How do you evaluate your model and how did you choose its parameters \n",
        "- Report any additional results and comments on your approach.\n",
        "\n",
        "You should achieve at least 85% accuracy score and 84% f1 score."
      ]
    },
    {
      "attachments": {},
      "cell_type": "markdown",
      "metadata": {
        "deletable": false,
        "id": "76FF0gYVnyDh",
        "nbgrader": {
          "cell_type": "markdown",
          "checksum": "1aaf3ddda45b52c2e43089b082d030f1",
          "grade": true,
          "grade_id": "cell-80274fd09b80518c",
          "locked": false,
          "points": 20,
          "schema_version": 3,
          "solution": true,
          "task": false
        }
      },
      "source": [
        "YOUR ANSWER HERE\n",
        "\n",
        "1: Για τα missing values χρησιμοποιείται η κλάση SimpleImputer. Για τα αριθμητικά δεδομένα (Numerical Features), χρησιμοποιούμε τη στρατηγική mean. Επειδή είναι αριθμητικά δεδομένα θέτουμε τα missing values στο μέσο κάτι που αποτελεί απλή και κοινή πρακτική. Σχετικά με τα categorical-data χρησιμοποιούμε την αγνόηση.\n",
        "\n",
        "2: Για τα categorical-data χρησιμοποιούμε τη κλάση OneHotEncoder όπου μας βοηθά να \"κωδικοποιήσουμε\" τα δεδομένα σε αριθμητικά δεδομένα με ασφάλεια και σχετική ακρίβεια, ώστε να μπορούν να γίνουν οι απαιτούμενες συγκρίσεις και το μοντέλο να είναι αποτελεσματικό.\n",
        "\n",
        "3: Δεν χρησιμοποίησα κάποια ιδιαίτερη τεχνική προεπεξεργασίας. Όπως αναφέρθηκα παραπάνω, διαχειρίστηκα με συγκεκριμένο τρόπο τα numerical και categorical features.\n",
        "\n",
        "4: Σχετικά με την επιλογή των παραμέτρων για τις 3 μετρικές, επιλέχθηκαν τυχαία καθώς σε άλλες βιβλιοθήκες έπαιρνα ValueError, κάτι που μπορεί να οφείλεται και στην επιλογή μου να μη χρησιμοποιήσω πιο αποτελεσματικές τεχνικές προεπεξεργασίας των δεδομένων μου."
      ]
    },
    {
      "attachments": {},
      "cell_type": "markdown",
      "metadata": {
        "deletable": false,
        "editable": false,
        "id": "WCN7E_ctnyDu",
        "nbgrader": {
          "cell_type": "markdown",
          "checksum": "747645b33cb4f5c14796504fac6bf3ce",
          "grade": false,
          "grade_id": "cell-89715acd6c51b332",
          "locked": true,
          "schema_version": 3,
          "solution": false,
          "task": false
        }
      },
      "source": [
        "**Bonus Question:** Did you like this assignment? Please provide your feedback."
      ]
    },
    {
      "attachments": {},
      "cell_type": "markdown",
      "metadata": {
        "deletable": false,
        "id": "ZyG7hhbFnyDx",
        "nbgrader": {
          "cell_type": "markdown",
          "checksum": "b26041c1723d2858ad0833f8985801db",
          "grade": true,
          "grade_id": "cell-c99ca88f33f3717c",
          "locked": false,
          "points": 5,
          "schema_version": 3,
          "solution": true,
          "task": false
        }
      },
      "source": [
        "YOUR ANSWER HERE"
      ]
    }
  ],
  "metadata": {
    "colab": {
      "provenance": []
    },
    "kernelspec": {
      "display_name": "Python 3",
      "language": "python",
      "name": "python3"
    },
    "language_info": {
      "codemirror_mode": {
        "name": "ipython",
        "version": 3
      },
      "file_extension": ".py",
      "mimetype": "text/x-python",
      "name": "python",
      "nbconvert_exporter": "python",
      "pygments_lexer": "ipython3",
      "version": "3.9.13"
    },
    "pycharm": {
      "stem_cell": {
        "cell_type": "raw",
        "metadata": {
          "collapsed": false
        },
        "source": []
      }
    },
    "vscode": {
      "interpreter": {
        "hash": "31f2aee4e71d21fbe5cf8b01ff0e069b9275f58929596ceb00d14d90e3e16cd6"
      }
    }
  },
  "nbformat": 4,
  "nbformat_minor": 0
}
